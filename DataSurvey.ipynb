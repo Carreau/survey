{
 "cells": [
  {
   "cell_type": "markdown",
   "metadata": {},
   "source": [
    "# Ananlysis of Jupyter notebook 2016 survey"
   ]
  },
  {
   "cell_type": "markdown",
   "metadata": {},
   "source": [
    "Thanks to the IBM team for setting up this survey !"
   ]
  },
  {
   "cell_type": "code",
   "execution_count": 1,
   "metadata": {
    "collapsed": true
   },
   "outputs": [],
   "source": [
    "import pandas as pd"
   ]
  },
  {
   "cell_type": "code",
   "execution_count": 2,
   "metadata": {
    "collapsed": false
   },
   "outputs": [],
   "source": [
    "df = pd.read_csv('20160115235816-SurveyExport.csv', parse_dates=['Time Started','Date Submitted'])"
   ]
  },
  {
   "cell_type": "code",
   "execution_count": 3,
   "metadata": {
    "collapsed": false
   },
   "outputs": [
    {
     "data": {
      "text/plain": [
       "1706"
      ]
     },
     "execution_count": 3,
     "metadata": {},
     "output_type": "execute_result"
    }
   ],
   "source": [
    "len(df)"
   ]
  },
  {
   "cell_type": "markdown",
   "metadata": {},
   "source": [
    "So we have ~1700 people who answerd the survey. Let's do a quick analysis"
   ]
  },
  {
   "cell_type": "markdown",
   "metadata": {},
   "source": [
    "Let's have a first look at the questions. They wil be the title of the column or our dataframe."
   ]
  },
  {
   "cell_type": "code",
   "execution_count": 4,
   "metadata": {
    "collapsed": false
   },
   "outputs": [
    {
     "name": "stdout",
     "output_type": "stream",
     "text": [
      "0 : Time Started\n",
      "1 : Date Submitted\n",
      "2 : Status\n",
      "3 : How often do you use Jupyter Notebook?\n",
      "4 : What, if anything, hinders you from making Jupyter Notebook an even more regular part of your workflow?\n",
      "5 : Roughly how long have you been using Jupyter Notebook?\n",
      "6 : Tool / Application #1:What tools and applications, if any, would you like to see more tightly integrated with Jupyter Notebook?    \n",
      "7 : Tool / Application #2:What tools and applications, if any, would you like to see more tightly integrated with Jupyter Notebook?    \n",
      "8 : Tool / Application #3:What tools and applications, if any, would you like to see more tightly integrated with Jupyter Notebook?    \n",
      "9 : How do you run the Jupyter Notebook?\n",
      "10 : Other - Write In:How do you run the Jupyter Notebook?\n",
      "11 : Workflow Need #1:What needs in your workflow does Jupyter Notebook address?\n",
      "12 : Workflow Need #2:What needs in your workflow does Jupyter Notebook address?\n",
      "13 : Workflow Need #3:What needs in your workflow does Jupyter Notebook address?\n",
      "14 : Workflow Need #1:What needs in your workflow does Jupyter Notebook not address?\n",
      "15 : Workflow Need #2:What needs in your workflow does Jupyter Notebook not address?\n",
      "16 : Workflow Need #3:What needs in your workflow does Jupyter Notebook not address?\n",
      "17 : Aspect #1:What aspects of Jupyter Notebook make it pleasant to use in your workflow?\n",
      "18 : Aspect #2:What aspects of Jupyter Notebook make it pleasant to use in your workflow?\n",
      "19 : Aspect #3:What aspects of Jupyter Notebook make it pleasant to use in your workflow?\n",
      "20 : Aspect #1:What aspects of Jupyter Notebook make it difficult to use in your workflow?\n",
      "21 : Aspect #2:What aspects of Jupyter Notebook make it difficult to use in your workflow?\n",
      "22 : Aspect #3:What aspects of Jupyter Notebook make it difficult to use in your workflow?\n",
      "23 : Feature / Change #1:What new features or changes would you like to see in Jupyter Notebook? (Please list anything that comes to mind that helps you in your workflow, big or small.)\n",
      "24 : Feature / Change #2:What new features or changes would you like to see in Jupyter Notebook? (Please list anything that comes to mind that helps you in your workflow, big or small.)\n",
      "25 : Feature / Change #3:What new features or changes would you like to see in Jupyter Notebook? (Please list anything that comes to mind that helps you in your workflow, big or small.)\n",
      "26 : Enhancement #1:Thinking back to when you first started using Jupyter Notebook, what enhancements would have made your initial experience better?\n",
      "27 : Enhancement #2:Thinking back to when you first started using Jupyter Notebook, what enhancements would have made your initial experience better?\n",
      "28 : Enhancement #3:Thinking back to when you first started using Jupyter Notebook, what enhancements would have made your initial experience better?\n",
      "29 : Select all the words that best describe Jupyter Notebook.\n",
      "30 : Other word(s)::Select all the words that best describe Jupyter Notebook.\n",
      "31 : What is your primary role when using Jupyter Notebook (e.g., student, astrophysicist, financial modeler, business manager, etc.)?\n",
      "32 : How many years have you been in this role? \n",
      "33 : Industry #1:What industries does your role and analytical work support (e.g., Journalism, IT, etc.)?\n",
      "34 : Industry #2:What industries does your role and analytical work support (e.g., Journalism, IT, etc.)?\n",
      "35 : Industry #3:What industries does your role and analytical work support (e.g., Journalism, IT, etc.)?\n",
      "36 : How many people typically see and/or interact with the results of your work in Jupyter Notebook? (Consider people who view your notebooks on nbviewer, colleagues who rerun your notebooks, developers who star your notebook repos on GitHub, audiences who see your notebooks as slideshows, etc.)\n"
     ]
    }
   ],
   "source": [
    "k= df.keys()\n",
    "for i,kk in enumerate(k):\n",
    "    print(i,':',kk)"
   ]
  },
  {
   "cell_type": "code",
   "execution_count": 5,
   "metadata": {
    "collapsed": false
   },
   "outputs": [],
   "source": [
    "%matplotlib inline\n",
    "import matplotlib.pyplot as plt\n",
    "import matplotlib\n",
    "matplotlib.style.use('ggplot')\n"
   ]
  },
  {
   "cell_type": "code",
   "execution_count": 6,
   "metadata": {
    "collapsed": false
   },
   "outputs": [],
   "source": [
    "deltatime = (df[k[1]]-df[k[0]]).astype('timedelta64[s]')\n"
   ]
  },
  {
   "cell_type": "markdown",
   "metadata": {},
   "source": [
    "let's look at the time to complete the survey distribution:"
   ]
  },
  {
   "cell_type": "code",
   "execution_count": 7,
   "metadata": {
    "collapsed": false
   },
   "outputs": [
    {
     "data": {
      "text/plain": [
       "<matplotlib.axes._subplots.AxesSubplot at 0x1086af630>"
      ]
     },
     "execution_count": 7,
     "metadata": {},
     "output_type": "execute_result"
    },
    {
     "data": {
      "image/png": "[encoded data removed]",
      "text/plain": [
       "<matplotlib.figure.Figure at 0x107bbc860>"
      ]
     },
     "metadata": {},
     "output_type": "display_data"
    }
   ],
   "source": [
    "deltatime[deltatime<60].hist(bins=60)"
   ]
  },
  {
   "cell_type": "markdown",
   "metadata": {},
   "source": [
    ":-( almost 500 form submitted in less than 1 second... is this any sort of bugs ?"
   ]
  },
  {
   "cell_type": "code",
   "execution_count": 11,
   "metadata": {
    "collapsed": false
   },
   "outputs": [
    {
     "data": {
      "text/plain": [
       "{'Partial'}"
      ]
     },
     "execution_count": 11,
     "metadata": {},
     "output_type": "execute_result"
    }
   ],
   "source": [
    "set(df[deltatime<1]['Status'])"
   ]
  },
  {
   "cell_type": "markdown",
   "metadata": {},
   "source": [
    "Apparently not, all <1s form ar partial"
   ]
  },
  {
   "cell_type": "code",
   "execution_count": 16,
   "metadata": {
    "collapsed": false
   },
   "outputs": [
    {
     "data": {
      "text/plain": [
       "{'Complete', 'Partial'}"
      ]
     },
     "execution_count": 16,
     "metadata": {},
     "output_type": "execute_result"
    }
   ],
   "source": [
    "set(df['Status'])"
   ]
  },
  {
   "cell_type": "markdown",
   "metadata": {},
   "source": [
    "Ok status can only be `Partial` or `Complete`. "
   ]
  },
  {
   "cell_type": "code",
   "execution_count": 18,
   "metadata": {
    "collapsed": false
   },
   "outputs": [
    {
     "data": {
      "text/plain": [
       "779"
      ]
     },
     "execution_count": 18,
     "metadata": {},
     "output_type": "execute_result"
    }
   ],
   "source": [
    "complete = df[df['Status']=='Complete']\n",
    "len(complete)"
   ]
  },
  {
   "cell_type": "code",
   "execution_count": 20,
   "metadata": {
    "collapsed": false
   },
   "outputs": [],
   "source": [
    "deltacomplete = (complete[k[1]]-complete[k[0]]).astype('timedelta64[s]')"
   ]
  },
  {
   "cell_type": "code",
   "execution_count": 36,
   "metadata": {
    "collapsed": false
   },
   "outputs": [
    {
     "data": {
      "text/plain": [
       "<matplotlib.text.Text at 0x10a5120b8>"
      ]
     },
     "execution_count": 36,
     "metadata": {},
     "output_type": "execute_result"
    },
    {
     "data": {
      "image/png": "[encoded data removed]",
      "text/plain": [
       "<matplotlib.figure.Figure at 0x10a270710>"
      ]
     },
     "metadata": {},
     "output_type": "display_data"
    }
   ],
   "source": [
    "ax =deltacomplete[deltacomplete<2000].hist(bins=20)\n",
    "ax.set_xlabel('time to completion (s)')\n",
    "ax.set_ylabel('#')\n"
   ]
  },
  {
   "cell_type": "code",
   "execution_count": 41,
   "metadata": {
    "collapsed": true
   },
   "outputs": [],
   "source": [
    "from collections import Counter"
   ]
  },
  {
   "cell_type": "code",
   "execution_count": 52,
   "metadata": {
    "collapsed": false
   },
   "outputs": [
    {
     "name": "stdout",
     "output_type": "stream",
     "text": [
      "How do you run the Jupyter Notebook?\n"
     ]
    },
    {
     "data": {
      "text/plain": [
       "Counter({nan: 11,\n",
       "         'Through Jupyter Hub': 35,\n",
       "         'As a standalone application': 674,\n",
       "         'Other - Write In': 59})"
      ]
     },
     "execution_count": 52,
     "metadata": {},
     "output_type": "execute_result"
    }
   ],
   "source": [
    "C = Counter()\n",
    "C.update(complete[k[9]])\n",
    "print(k[9])\n",
    "C"
   ]
  },
  {
   "cell_type": "code",
   "execution_count": 56,
   "metadata": {
    "collapsed": false
   },
   "outputs": [
    {
     "name": "stdout",
     "output_type": "stream",
     "text": [
      "nan\n",
      "cloud.sagemath.com\n",
      "Compute Cluster w/ SSH Tunnels\n",
      "dato launcher\n",
      "PyCharm\n",
      "Sometimes as a standalone application, and sometimes I run it on a remote server and tunnel port 8888, so that the client runs locally.\n",
      "Launches in firefox\n",
      "SageMathCloud\n",
      "Through a custom docker image in kitematic\n",
      "spark\n",
      "\"ipython notebook\" don't know what's that's called \n",
      "Via custom makefile\n",
      "Sagemath\n",
      "Stand-alone AND Jupyter Hub\n",
      "Through GIT Bash\n",
      "through django\n",
      "docker toolbox\n",
      "As a server on a Raspberry Pi\n",
      "Headless on RHEL server, PW protected\n",
      "Azure ML Studio\n",
      "Part of Anaconda\n",
      "I use both forms\n",
      "Tmpnb with custom docker image\n",
      "On a VPS through SSH.\n",
      "as part of anaconda\n",
      "standalone and cloud based\n",
      "Under Vagrant/VBox/Docker\n",
      "ein & standalone\n",
      "docker\n",
      "Vagrant\n",
      "Browser\n",
      "Jupyter notebook at the command line\n",
      "Through pineapple App\n",
      "I use both relatively equally\n",
      "Google-specific version\n",
      "On top of Spark\n",
      "Embedded in IBM Analytics\n",
      "through emacs\n",
      "Jupyter server in our Group\n",
      "Standalone and on SageMathCloud\n",
      "via \"ipython notebook\"\n",
      "I can't.\n",
      "Terminal\n",
      "ipython -notebook\n",
      "C:\\Project>env\\Scripts\\jupyter.exe notebook\n",
      "AWS and Docker\n",
      "Both\n",
      "multi-user on a remote server, w/o Jupyter Hub\n",
      "Dato\n",
      "I am not sure what this question means.\n",
      "on a linux server with apache fwd\n",
      "osx+conda on workstation, docker+pip on server\n",
      "Standalone, from Emacs\n",
      "cloud.sagemath.com/\n",
      "standalone and from within another python interpreter\n",
      "on a virtual machine at my company\n",
      "in SageMathCloud.  You guys should have included SageMathCloud, Wakari, etc., as options! Why not?\n",
      "by command line, formely ipython notebook \n",
      "both stand alone and now using Docker images, getting team on that\n",
      "own server\n"
     ]
    }
   ],
   "source": [
    "for x in set(complete[k[10]]):\n",
    "    print(x)"
   ]
  },
  {
   "cell_type": "code",
   "execution_count": null,
   "metadata": {
    "collapsed": true
   },
   "outputs": [],
   "source": []
  }
 ],
 "metadata": {
  "kernelspec": {
   "display_name": "Python 3",
   "language": "python",
   "name": "python3"
  },
  "language_info": {
   "codemirror_mode": {
    "name": "ipython",
    "version": 3
   },
   "file_extension": ".py",
   "mimetype": "text/x-python",
   "name": "python",
   "nbconvert_exporter": "python",
   "pygments_lexer": "ipython3",
   "version": "3.5.1"
  }
 },
 "nbformat": 4,
 "nbformat_minor": 0
}
